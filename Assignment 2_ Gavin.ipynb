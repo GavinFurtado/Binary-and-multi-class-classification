{
 "cells": [
  {
   "cell_type": "markdown",
   "id": "6b6b2e09",
   "metadata": {},
   "source": [
    "# Assigmnet - 2\n",
    "\n",
    "### Name: Gavin Furtado  Student No: 21200745  Module: Data Science in python\n",
    "\n",
    "In this notebook a webiste is scarpped using beautiful soup 4 and the text obtained from it is used for binary and mutlicalss classification"
   ]
  },
  {
   "cell_type": "markdown",
   "id": "813e47d8",
   "metadata": {},
   "source": [
    "### Task 1 -  Web Scarpping\n"
   ]
  },
  {
   "cell_type": "code",
   "execution_count": 108,
   "id": "756fbb2c",
   "metadata": {},
   "outputs": [],
   "source": [
    "import pandas as pd\n",
    "import urllib.request\n",
    "import bs4           # beautiful soup 4(html parser)\n",
    "\n",
    "link = 'http://mlg.ucd.ie/modules/COMP41680/assignment2/index.html'\n",
    "response = urllib.request.urlopen(link)\n",
    "html_script = response.read().decode()\n",
    "soup_parser = bs4.BeautifulSoup(html_script, 'html.parser')\n",
    "\n",
    "# Creating a list to store all the neccessary data from the html files\n",
    "title = []\n",
    "category = []\n",
    "snippet_text = []"
   ]
  },
  {
   "cell_type": "markdown",
   "id": "555850e2",
   "metadata": {},
   "source": [
    "Three function have been made which are required for parsing and storing the desired information from a html text file"
   ]
  },
  {
   "cell_type": "code",
   "execution_count": 109,
   "id": "c44e43e1",
   "metadata": {},
   "outputs": [],
   "source": [
    "def monthlink(url_end):\n",
    "    '''Creates the link for each month of the website'''\n",
    "    url = f'http://mlg.ucd.ie/modules/COMP41680/assignment2/{url_end}'\n",
    "    return url\n",
    "\n",
    "def collect_data(soup_parser):\n",
    "    '''Parses through the html file and extracts title, category and snippet'''\n",
    "    for article in soup_parser.find_all('div',class_='article'):\n",
    "            metadata = article.find_all('p',class_= 'metadata')\n",
    "            categories = ['Books','Music','Film']\n",
    "\n",
    "            for index in categories:\n",
    "                if index in metadata[1].get_text():\n",
    "                    category_ = metadata[1].get_text()\n",
    "                    category_ = category_.split(':')[1].strip()\n",
    "                    category.append(category_)\n",
    "                    snippet_class = article.find('p',class_='snippet')\n",
    "                    snippet_text.append(snippet_class.get_text())\n",
    "                    title.append(article.h5.a.get_text())\n",
    "                    #print(title)\n",
    "                    #print(category)\n",
    "                    #print(snippet_text)\n",
    "\n",
    "def page(soup_parser):\n",
    "    '''Updates the link to next page number'''\n",
    "    pages = soup_parser.find('ul',class_='pagination')\n",
    "    for li in pages.find_all('li'):\n",
    "        #print(li.a['aria-label'])\n",
    "        if li.a['aria-label'] == 'Next':\n",
    "            if not li.a['href'] == '#':\n",
    "                page_num = li.a['href']\n",
    "                link = f'http://mlg.ucd.ie/modules/COMP41680/assignment2/{page_num}'\n",
    "                #print(link)\n",
    "                return link\n",
    "            else:\n",
    "                link = None\n",
    "                #print(link)\n",
    "                return link"
   ]
  },
  {
   "cell_type": "markdown",
   "id": "596e928a",
   "metadata": {},
   "source": [
    "This is the main part where all the html files are parsed and data is appended to a respective list. \n",
    "\n",
    "The selected categories are Books, Music and Film"
   ]
  },
  {
   "cell_type": "code",
   "execution_count": 110,
   "id": "608f123c",
   "metadata": {},
   "outputs": [],
   "source": [
    "# Getting links for all 12 months and storing it in a list \n",
    "url = []\n",
    "for match in soup_parser.find_all('a'):\n",
    "    text = match.get('href')\n",
    "    if not text == 'index.html':\n",
    "        url.append(monthlink(text))\n",
    "\n",
    "# Pasring through every page of all 12 months\n",
    "for u in url:\n",
    "    link = u                                               # looping through each month eg.January then February and so on.\n",
    "    while(link != None):                                   # Looping through all the available pages of that month.\n",
    "        #print(link)\n",
    "        response = urllib.request.urlopen(link)\n",
    "        html_script = response.read().decode()\n",
    "        soup_parser = bs4.BeautifulSoup(html_script, 'html.parser')       # Using bs4 to get html file\n",
    "        collect_data(soup_parser)                          # this function will collect the required data and append to a list\n",
    "        link = page(soup_parser)                           # updating the link to the link of the next page \n",
    " "
   ]
  },
  {
   "cell_type": "code",
   "execution_count": 111,
   "id": "9d91119b",
   "metadata": {},
   "outputs": [
    {
     "data": {
      "text/html": [
       "<div>\n",
       "<style scoped>\n",
       "    .dataframe tbody tr th:only-of-type {\n",
       "        vertical-align: middle;\n",
       "    }\n",
       "\n",
       "    .dataframe tbody tr th {\n",
       "        vertical-align: top;\n",
       "    }\n",
       "\n",
       "    .dataframe thead th {\n",
       "        text-align: right;\n",
       "    }\n",
       "</style>\n",
       "<table border=\"1\" class=\"dataframe\">\n",
       "  <thead>\n",
       "    <tr style=\"text-align: right;\">\n",
       "      <th></th>\n",
       "      <th>category</th>\n",
       "      <th>title</th>\n",
       "      <th>snippet</th>\n",
       "    </tr>\n",
       "  </thead>\n",
       "  <tbody>\n",
       "    <tr>\n",
       "      <th>5379</th>\n",
       "      <td>Music</td>\n",
       "      <td>'Audiences don't want white anger': how white ...</td>\n",
       "      <td>With Jack Harlow’s major label debut Thats Wha...</td>\n",
       "    </tr>\n",
       "    <tr>\n",
       "      <th>5380</th>\n",
       "      <td>Film</td>\n",
       "      <td>Let It Snow review – a seasonal chiller to war...</td>\n",
       "      <td>Summary: Nothing warms the anti-yuletide misan...</td>\n",
       "    </tr>\n",
       "    <tr>\n",
       "      <th>5381</th>\n",
       "      <td>Film</td>\n",
       "      <td>The Dry review – Eric Bana stars in gripping, ...</td>\n",
       "      <td>Jane Harper’s best-selling novel The Dry is on...</td>\n",
       "    </tr>\n",
       "    <tr>\n",
       "      <th>5382</th>\n",
       "      <td>Books</td>\n",
       "      <td>Beginners by Tom Vanderbilt review – it's neve...</td>\n",
       "      <td>Most highly skilled fields have rude names for...</td>\n",
       "    </tr>\n",
       "    <tr>\n",
       "      <th>5383</th>\n",
       "      <td>Books</td>\n",
       "      <td>'Humaning': a nice idea or ridiculous corporat...</td>\n",
       "      <td>In business news, Mondelēz International, a mu...</td>\n",
       "    </tr>\n",
       "    <tr>\n",
       "      <th>5384</th>\n",
       "      <td>Music</td>\n",
       "      <td>Banging toons: why bands such as Bis are makin...</td>\n",
       "      <td>An architect cranks a lever, and suddenly Mr S...</td>\n",
       "    </tr>\n",
       "    <tr>\n",
       "      <th>5385</th>\n",
       "      <td>Books</td>\n",
       "      <td>Little Scratch by Rebecca Watson review - a da...</td>\n",
       "      <td>Rebecca Watson’s debut novel started life as a...</td>\n",
       "    </tr>\n",
       "    <tr>\n",
       "      <th>5386</th>\n",
       "      <td>Music</td>\n",
       "      <td>'All that mattered was survival': the songs th...</td>\n",
       "      <td>Isaac Hayes – Going in Circles When it came to...</td>\n",
       "    </tr>\n",
       "    <tr>\n",
       "      <th>5387</th>\n",
       "      <td>Film</td>\n",
       "      <td>‘It took its toll’: the terrible legacy of Mar...</td>\n",
       "      <td>Summary: As a child in 1960s east Harlem, docu...</td>\n",
       "    </tr>\n",
       "    <tr>\n",
       "      <th>5388</th>\n",
       "      <td>Music</td>\n",
       "      <td>MF Doom, iconic masked hip-hop MC, dies aged 49</td>\n",
       "      <td>MF Doom, one of US hip-hop’s most distinctive ...</td>\n",
       "    </tr>\n",
       "  </tbody>\n",
       "</table>\n",
       "</div>"
      ],
      "text/plain": [
       "     category                                              title  \\\n",
       "5379    Music  'Audiences don't want white anger': how white ...   \n",
       "5380     Film  Let It Snow review – a seasonal chiller to war...   \n",
       "5381     Film  The Dry review – Eric Bana stars in gripping, ...   \n",
       "5382    Books  Beginners by Tom Vanderbilt review – it's neve...   \n",
       "5383    Books  'Humaning': a nice idea or ridiculous corporat...   \n",
       "5384    Music  Banging toons: why bands such as Bis are makin...   \n",
       "5385    Books  Little Scratch by Rebecca Watson review - a da...   \n",
       "5386    Music  'All that mattered was survival': the songs th...   \n",
       "5387     Film  ‘It took its toll’: the terrible legacy of Mar...   \n",
       "5388    Music    MF Doom, iconic masked hip-hop MC, dies aged 49   \n",
       "\n",
       "                                                snippet  \n",
       "5379  With Jack Harlow’s major label debut Thats Wha...  \n",
       "5380  Summary: Nothing warms the anti-yuletide misan...  \n",
       "5381  Jane Harper’s best-selling novel The Dry is on...  \n",
       "5382  Most highly skilled fields have rude names for...  \n",
       "5383  In business news, Mondelēz International, a mu...  \n",
       "5384  An architect cranks a lever, and suddenly Mr S...  \n",
       "5385  Rebecca Watson’s debut novel started life as a...  \n",
       "5386  Isaac Hayes – Going in Circles When it came to...  \n",
       "5387  Summary: As a child in 1960s east Harlem, docu...  \n",
       "5388  MF Doom, one of US hip-hop’s most distinctive ...  "
      ]
     },
     "execution_count": 111,
     "metadata": {},
     "output_type": "execute_result"
    }
   ],
   "source": [
    "# Creating a dictionary\n",
    "data = {'category':category,'title':title,'snippet':snippet_text}\n",
    "# Converting dictionary to a dataframe\n",
    "df = pd.DataFrame(data)  \n",
    "# Verifying the dataframe\n",
    "#df.head(10)\n",
    "df.tail(10)"
   ]
  },
  {
   "cell_type": "code",
   "execution_count": 112,
   "id": "cf638ba4",
   "metadata": {},
   "outputs": [],
   "source": [
    "### To check the full dataframe uncomment the lines below ###\n",
    "#pd.set_option('display.max_rows', 5389)\n",
    "#df"
   ]
  },
  {
   "cell_type": "markdown",
   "id": "eccb6bcc",
   "metadata": {},
   "source": [
    "Now we have the data of three categories, so let us consider A = Books, B = Music, C = Film\n",
    "\n",
    "### Task 2 - Binary Classification\n",
    "\n",
    "In binary classification we only use two categories and train the data accordingly. We can make three combinations for binary classification whic are as follows, A and B (Books and Music), B and C (Music and Film), A and C (Books and Film)\n",
    "\n",
    "Based on the combinations we filter out the data frame and store the data of the respective category combination."
   ]
  },
  {
   "cell_type": "code",
   "execution_count": 113,
   "id": "35afafc6",
   "metadata": {},
   "outputs": [],
   "source": [
    "with open(r'D:\\Gavin\\Academics\\UCD\\Ds in python\\Assignment 2\\fulldocument_AB.txt','a', encoding=\"utf-8\") as f:\n",
    "    labels_AB = []\n",
    "    for i in range(len(df)):\n",
    "        row_category = df.loc[[i],'category']\n",
    "        row_title = df.loc[[i],'title']\n",
    "        row_snippet = df.loc[[i],'snippet']\n",
    "        if row_category[i] == 'Books' or row_category[i] == 'Music':\n",
    "            row = row_title[i] + ' ' + row_snippet[i]\n",
    "            labels_AB.append(row_category[i] )\n",
    "            f.writelines(row)\n",
    "            f.writelines('\\n')"
   ]
  },
  {
   "cell_type": "markdown",
   "id": "8c4a42c4",
   "metadata": {},
   "source": [
    "Creating text file for category B and C (Music and Film)"
   ]
  },
  {
   "cell_type": "code",
   "execution_count": 114,
   "id": "8d161eff",
   "metadata": {},
   "outputs": [],
   "source": [
    "with open(r'D:\\Gavin\\Academics\\UCD\\Ds in python\\Assignment 2\\fulldocument_BC.txt','a', encoding=\"utf-8\") as f:\n",
    "    labels_BC = []\n",
    "    for i in range(len(df)):\n",
    "        row_category = df.loc[[i],'category']\n",
    "        row_title = df.loc[[i],'title']\n",
    "        row_snippet = df.loc[[i],'snippet']\n",
    "        if row_category[i] == 'Music' or row_category[i] == 'Film':\n",
    "            row = row_title[i] + ' ' + row_snippet[i]\n",
    "            labels_BC.append(row_category[i] )\n",
    "            f.writelines(row)\n",
    "            f.writelines('\\n')"
   ]
  },
  {
   "cell_type": "markdown",
   "id": "b9f6157b",
   "metadata": {},
   "source": [
    "Creating text file for category A and C (Books and Film)"
   ]
  },
  {
   "cell_type": "code",
   "execution_count": 115,
   "id": "16e357dc",
   "metadata": {},
   "outputs": [],
   "source": [
    "with open(r'D:\\Gavin\\Academics\\UCD\\Ds in python\\Assignment 2\\fulldocument_AC.txt','a', encoding=\"utf-8\") as f:\n",
    "    labels_AC = []\n",
    "    for i in range(len(df)):\n",
    "        row_category = df.loc[[i],'category']\n",
    "        row_title = df.loc[[i],'title']\n",
    "        row_snippet = df.loc[[i],'snippet']\n",
    "        if row_category[i] == 'Books' or row_category[i] == 'Music':\n",
    "            row = row_title[i] + ' ' + row_snippet[i]\n",
    "            labels_AC.append(row_category[i] )\n",
    "            f.writelines(row)\n",
    "            f.writelines('\\n')"
   ]
  },
  {
   "cell_type": "markdown",
   "id": "77b3e13c",
   "metadata": {},
   "source": [
    "Creating a text file with all the three categories"
   ]
  },
  {
   "cell_type": "code",
   "execution_count": 116,
   "id": "245ccb3d",
   "metadata": {},
   "outputs": [],
   "source": [
    "with open(r'D:\\Gavin\\Academics\\UCD\\Ds in python\\Assignment 2\\fulldocument_ABC.txt','a', encoding=\"utf-8\") as f:\n",
    "    labels_ABC = []\n",
    "    for i in range(len(df)):\n",
    "        row_category = df.loc[[i],'category']\n",
    "        row_title = df.loc[[i],'title']\n",
    "        row_snippet = df.loc[[i],'snippet']\n",
    "        row = row_title[i] + ' ' + row_snippet[i]\n",
    "        labels_ABC.append(row_category[i] )\n",
    "        f.writelines(row)\n",
    "        f.writelines('\\n')\n"
   ]
  },
  {
   "cell_type": "markdown",
   "id": "bca680dc",
   "metadata": {},
   "source": [
    "Import everything neccessary"
   ]
  },
  {
   "cell_type": "code",
   "execution_count": 117,
   "id": "7a7d00f8",
   "metadata": {},
   "outputs": [],
   "source": [
    "from sklearn.feature_extraction.text import CountVectorizer, TfidfTransformer, TfidfVectorizer\n",
    "from sklearn.neighbors import KNeighborsClassifier\n",
    "from sklearn.linear_model import SGDClassifier\n",
    "from sklearn.metrics import accuracy_score, confusion_matrix, ConfusionMatrixDisplay\n",
    "%matplotlib inline\n",
    "from sklearn.model_selection import train_test_split"
   ]
  },
  {
   "cell_type": "markdown",
   "id": "bdb6300c",
   "metadata": {},
   "source": [
    "Reading all the files"
   ]
  },
  {
   "cell_type": "code",
   "execution_count": 118,
   "id": "75bff01d",
   "metadata": {},
   "outputs": [],
   "source": [
    "with open(r'D:\\Gavin\\Academics\\UCD\\Ds in python\\Assignment 2\\fulldocument_AB.txt','r', encoding=\"utf-8\") as f:\n",
    "    fulldocument_AB = f.readlines()\n",
    "\n",
    "with open(r'D:\\Gavin\\Academics\\UCD\\Ds in python\\Assignment 2\\fulldocument_BC.txt','r', encoding=\"utf-8\") as f:\n",
    "    fulldocument_BC = f.readlines()\n",
    "\n",
    "with open(r'D:\\Gavin\\Academics\\UCD\\Ds in python\\Assignment 2\\fulldocument_AC.txt','r', encoding=\"utf-8\") as f:\n",
    "    fulldocument_AC = f.readlines()\n",
    "\n",
    "with open(r'D:\\Gavin\\Academics\\UCD\\Ds in python\\Assignment 2\\fulldocument_ABC.txt','r', encoding=\"utf-8\") as f:\n",
    "    fulldocument_ABC = f.readlines()\n"
   ]
  },
  {
   "cell_type": "code",
   "execution_count": 119,
   "id": "5f4efa1b",
   "metadata": {},
   "outputs": [],
   "source": [
    "### Taken from class jupyter notebooks ###\n",
    "\n",
    "# import the WordNet lemmatizer\n",
    "from nltk.stem import WordNetLemmatizer\n",
    "\n",
    "def lemma_tokenizer(text):\n",
    "    standard_tokenizer = CountVectorizer().build_tokenizer()\n",
    "    tokens = standard_tokenizer(text)\n",
    "    lemmatizer = WordNetLemmatizer()\n",
    "    lemma_tokens = []\n",
    "    for token in tokens:\n",
    "        lemma_tokens.append(lemmatizer.lemmatize(token))\n",
    "    return lemma_tokens"
   ]
  },
  {
   "cell_type": "markdown",
   "id": "87b72dad",
   "metadata": {},
   "source": [
    "One of the steps for preprocessing the text is lemmatisation by using NLTK package.\n",
    "\n",
    "For training model we have used linear support vector machine classifier "
   ]
  },
  {
   "cell_type": "code",
   "execution_count": 120,
   "id": "905465d5",
   "metadata": {},
   "outputs": [],
   "source": [
    "\n",
    "def classification(document, labels):\n",
    "    # Text Preprocessing using lemmantization, removing stop words, removing words low frequency words in documents\n",
    "    vectorizer = TfidfVectorizer(stop_words=\"english\", min_df = 5, tokenizer=lemma_tokenizer)\n",
    "    # Vectorization\n",
    "    X = vectorizer.fit_transform(document)\n",
    "    # Splitting entire data into train and test data\n",
    "    data_train, data_test, target_train, target_test = train_test_split(X, labels, test_size=0.2)\n",
    "    # Calling a linear model\n",
    "    model = SGDClassifier()\n",
    "    # fit the training set to a model\n",
    "    model.fit(data_train, target_train)\n",
    "    print(f'Model used: {model}')\n",
    "    # based on training predict the outcome of test data\n",
    "    predicted = model.predict(data_test)\n",
    "    #print(predicted)\n",
    "    # Calculate accuracy\n",
    "    acc = accuracy_score(target_test, predicted)\n",
    "    print(f'Accuracy is {acc}')\n",
    "\n",
    "    # confusion matrix\n",
    "    cm = confusion_matrix(target_test, predicted)\n",
    "    cmd = ConfusionMatrixDisplay(cm, display_labels=set(labels))\n",
    "    cmd.plot();\n",
    "\n"
   ]
  },
  {
   "cell_type": "markdown",
   "id": "109de37b",
   "metadata": {},
   "source": [
    "Three combinations of binary classifications"
   ]
  },
  {
   "cell_type": "code",
   "execution_count": 121,
   "id": "a20061be",
   "metadata": {},
   "outputs": [
    {
     "name": "stderr",
     "output_type": "stream",
     "text": [
      "D:\\Gavin\\Softwares\\Anaconda3\\lib\\site-packages\\sklearn\\feature_extraction\\text.py:388: UserWarning: Your stop_words may be inconsistent with your preprocessing. Tokenizing the stop words generated tokens ['ha', 'le', 'u', 'wa'] not in stop_words.\n",
      "  warnings.warn('Your stop_words may be inconsistent with '\n"
     ]
    },
    {
     "name": "stdout",
     "output_type": "stream",
     "text": [
      "Model used: SGDClassifier()\n",
      "Accuracy is 0.9060773480662984\n"
     ]
    },
    {
     "data": {
      "image/png": "[encoded data removed]",
      "text/plain": [
       "<Figure size 432x288 with 2 Axes>"
      ]
     },
     "metadata": {
      "needs_background": "light"
     },
     "output_type": "display_data"
    }
   ],
   "source": [
    "# Binary classification between books and music\n",
    "classification(fulldocument_AB,labels_AB)"
   ]
  },
  {
   "cell_type": "code",
   "execution_count": 122,
   "id": "35a82732",
   "metadata": {},
   "outputs": [
    {
     "name": "stderr",
     "output_type": "stream",
     "text": [
      "D:\\Gavin\\Softwares\\Anaconda3\\lib\\site-packages\\sklearn\\feature_extraction\\text.py:388: UserWarning: Your stop_words may be inconsistent with your preprocessing. Tokenizing the stop words generated tokens ['ha', 'le', 'u', 'wa'] not in stop_words.\n",
      "  warnings.warn('Your stop_words may be inconsistent with '\n"
     ]
    },
    {
     "name": "stdout",
     "output_type": "stream",
     "text": [
      "Model used: SGDClassifier()\n",
      "Accuracy is 0.9159663865546218\n"
     ]
    },
    {
     "data": {
      "image/png": "[encoded data removed]",
      "text/plain": [
       "<Figure size 432x288 with 2 Axes>"
      ]
     },
     "metadata": {
      "needs_background": "light"
     },
     "output_type": "display_data"
    }
   ],
   "source": [
    "# binary classification between music and film\n",
    "classification(fulldocument_BC,labels_BC)"
   ]
  },
  {
   "cell_type": "code",
   "execution_count": 125,
   "id": "6247af96",
   "metadata": {},
   "outputs": [
    {
     "name": "stderr",
     "output_type": "stream",
     "text": [
      "D:\\Gavin\\Softwares\\Anaconda3\\lib\\site-packages\\sklearn\\feature_extraction\\text.py:388: UserWarning: Your stop_words may be inconsistent with your preprocessing. Tokenizing the stop words generated tokens ['ha', 'le', 'u', 'wa'] not in stop_words.\n",
      "  warnings.warn('Your stop_words may be inconsistent with '\n"
     ]
    },
    {
     "name": "stdout",
     "output_type": "stream",
     "text": [
      "Model used: SGDClassifier()\n",
      "Accuracy is 0.9074585635359116\n"
     ]
    },
    {
     "data": {
      "image/png": "[encoded data removed]",
      "text/plain": [
       "<Figure size 432x288 with 2 Axes>"
      ]
     },
     "metadata": {
      "needs_background": "light"
     },
     "output_type": "display_data"
    }
   ],
   "source": [
    "# binary classification between books and film\n",
    "classification(fulldocument_AC,labels_AC)"
   ]
  },
  {
   "cell_type": "markdown",
   "id": "bdd1e34d",
   "metadata": {},
   "source": [
    "The confusion matrices of binary classification show high values for true positive and true negative elements, hence the model works correctly."
   ]
  },
  {
   "cell_type": "markdown",
   "id": "64dd9812",
   "metadata": {},
   "source": [
    "### Task 3 - Multiclass classification\n",
    "\n",
    "For multiclass classification we can used the same function classification but we need to give a document which contains all the three categories."
   ]
  },
  {
   "cell_type": "code",
   "execution_count": 126,
   "id": "8907dd18",
   "metadata": {},
   "outputs": [
    {
     "name": "stderr",
     "output_type": "stream",
     "text": [
      "D:\\Gavin\\Softwares\\Anaconda3\\lib\\site-packages\\sklearn\\feature_extraction\\text.py:388: UserWarning: Your stop_words may be inconsistent with your preprocessing. Tokenizing the stop words generated tokens ['ha', 'le', 'u', 'wa'] not in stop_words.\n",
      "  warnings.warn('Your stop_words may be inconsistent with '\n"
     ]
    },
    {
     "name": "stdout",
     "output_type": "stream",
     "text": [
      "Model used: SGDClassifier()\n",
      "Accuracy is 0.8812615955473099\n"
     ]
    },
    {
     "data": {
      "image/png": "[encoded data removed]",
      "text/plain": [
       "<Figure size 432x288 with 2 Axes>"
      ]
     },
     "metadata": {
      "needs_background": "light"
     },
     "output_type": "display_data"
    }
   ],
   "source": [
    "# multiclass class classification using all three categories\n",
    "classification(fulldocument_ABC,labels_ABC)"
   ]
  },
  {
   "cell_type": "markdown",
   "id": "bfdb51f3",
   "metadata": {},
   "source": [
    "The confusion matrices of binary classification show high values for true positive and true negative across the diagonal elements, hence the model works correctly. It has a accuracy of 88% \n",
    "\n",
    "We can try using other models to get different accuracies depending on the type of data.\n",
    "Shown below is an example of linear Logistic Regression model which returns higher accuracy."
   ]
  },
  {
   "cell_type": "code",
   "execution_count": 127,
   "id": "59c37f54",
   "metadata": {},
   "outputs": [
    {
     "name": "stderr",
     "output_type": "stream",
     "text": [
      "D:\\Gavin\\Softwares\\Anaconda3\\lib\\site-packages\\sklearn\\feature_extraction\\text.py:388: UserWarning: Your stop_words may be inconsistent with your preprocessing. Tokenizing the stop words generated tokens ['ha', 'le', 'u', 'wa'] not in stop_words.\n",
      "  warnings.warn('Your stop_words may be inconsistent with '\n"
     ]
    },
    {
     "name": "stdout",
     "output_type": "stream",
     "text": [
      "Model used: LogisticRegression()\n",
      "Accuracy is 0.8636363636363636\n"
     ]
    },
    {
     "data": {
      "image/png": "[encoded data removed]",
      "text/plain": [
       "<Figure size 432x288 with 2 Axes>"
      ]
     },
     "metadata": {
      "needs_background": "light"
     },
     "output_type": "display_data"
    }
   ],
   "source": [
    "from sklearn.linear_model import LogisticRegression\n",
    "def lr_model(document, labels):\n",
    "    # Text Preprocessing using lemmantization, removing stop words, removing words low frequency words in documents\n",
    "    vectorizer = TfidfVectorizer(stop_words=\"english\", min_df = 5, tokenizer=lemma_tokenizer)\n",
    "    X = vectorizer.fit_transform(document)\n",
    "\n",
    "\n",
    "    data_train, data_test, target_train, target_test = train_test_split(X, labels, test_size=0.2)\n",
    "    model = LogisticRegression()\n",
    "    model.fit(data_train, target_train)\n",
    "    print(f'Model used: {model}')\n",
    "    predicted = model.predict(data_test)\n",
    "    #print(predicted)\n",
    "    acc = accuracy_score(target_test, predicted)\n",
    "    print(f'Accuracy is {acc}')\n",
    "\n",
    "    # calculate the confusion matrix\n",
    "    cm = confusion_matrix(target_test, predicted)\n",
    "    # display it graphically\n",
    "    cmd = ConfusionMatrixDisplay(cm, display_labels=set(labels))\n",
    "    cmd.plot();\n",
    "\n",
    "lr_model(fulldocument_ABC, labels_ABC)"
   ]
  },
  {
   "cell_type": "code",
   "execution_count": null,
   "id": "d7d4f1ec",
   "metadata": {},
   "outputs": [],
   "source": []
  }
 ],
 "metadata": {
  "kernelspec": {
   "display_name": "Python 3",
   "language": "python",
   "name": "python3"
  },
  "language_info": {
   "codemirror_mode": {
    "name": "ipython",
    "version": 3
   },
   "file_extension": ".py",
   "mimetype": "text/x-python",
   "name": "python",
   "nbconvert_exporter": "python",
   "pygments_lexer": "ipython3",
   "version": "3.8.8"
  }
 },
 "nbformat": 4,
 "nbformat_minor": 5
}
